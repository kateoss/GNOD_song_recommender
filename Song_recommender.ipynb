{
 "cells": [
  {
   "cell_type": "code",
   "execution_count": 2,
   "id": "2a71e1ff",
   "metadata": {},
   "outputs": [],
   "source": [
    "import pandas as pd\n",
    "from config import *\n",
    "import spotipy\n",
    "import json\n",
    "from spotipy.oauth2 import SpotifyClientCredentials\n",
    "import numpy as np\n",
    "\n",
    "sp = spotipy.Spotify(auth_manager=SpotifyClientCredentials(client_id=client_id,\n",
    "                                                           client_secret=client_secret_id))"
   ]
  },
  {
   "cell_type": "code",
   "execution_count": 3,
   "id": "000c312b",
   "metadata": {},
   "outputs": [],
   "source": [
    "data = pd.read_csv(\"all_songs.csv\")"
   ]
  },
  {
   "cell_type": "code",
   "execution_count": 4,
   "id": "5327530d",
   "metadata": {},
   "outputs": [],
   "source": [
    "def song_recommendation():\n",
    "    artist = input(\"Please enter the artist: \")\n",
    "    title = input(\"Please enter the song title: \")\n",
    "    try: \n",
    "        string = \"tracks: \" + title + \"artist: \" + artist\n",
    "        song=sp.search(q=string,limit=5)\n",
    "        song_id = [song['tracks']['items'][0]['id']]\n",
    "        artist_name = song['tracks']['items'][0]['album']['artists'][0]['name']\n",
    "        song_name = [song['tracks']['items'][0]['name']]\n",
    "        print(song_name)\n",
    "        print(artist_name)\n",
    "    except:\n",
    "        print(\"Song not found!\")\n",
    "  \n",
    "    while True:\n",
    "        try:\n",
    "            choice = int(input(\"Please type a number to choose the version you want: \"))\n",
    "        except ValueError:\n",
    "            print(\"Sorry, I didn't understand that.\")\n",
    "            continue\n",
    "            \n",
    "        if (choice <= 0) or (choice>len(song_id)):\n",
    "            print(\"Sorry, your response must be within the 0 and \", len(song_id)+1)\n",
    "            continue\n",
    "        else:\n",
    "            break\n",
    "    if song_id[choice-1] in list(data['id']):\n",
    "        print(\"Song exists!\")\n",
    "        cluster = list(data['cluster'][data['Title']==title])[0]\n",
    "        print(cluster)\n",
    "        if list(data['hot'][data['id']==song_id[choice-1]])[0] == 'Yes':\n",
    "            lst = [data['Title'][(data['hot']=='Yes') & (data['cluster']==cluster)].sample(5)]\n",
    "        else: \n",
    "            lst = [data['Title'][(data['hot']=='No') & (data['cluster']==cluster)].sample(5)]\n",
    "        return lst\n",
    "    else: \n",
    "        print(\"Sorry! Song not found in our system! We will update our system asap.\")"
   ]
  }
 ],
 "metadata": {
  "kernelspec": {
   "display_name": "Python 3 (ipykernel)",
   "language": "python",
   "name": "python3"
  },
  "language_info": {
   "codemirror_mode": {
    "name": "ipython",
    "version": 3
   },
   "file_extension": ".py",
   "mimetype": "text/x-python",
   "name": "python",
   "nbconvert_exporter": "python",
   "pygments_lexer": "ipython3",
   "version": "3.9.13"
  }
 },
 "nbformat": 4,
 "nbformat_minor": 5
}
